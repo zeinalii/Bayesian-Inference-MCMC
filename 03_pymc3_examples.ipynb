{
    "cells": [
     {
      "cell_type": "markdown",
      "metadata": {},
      "source": [
       "# PyMC3 Examples\n",
       "\n",
       "This notebook demonstrates how to use PyMC3 for Bayesian inference and MCMC sampling."
      ]
     },
     {
      "cell_type": "code",
      "execution_count": null,
      "metadata": {},
      "outputs": [],
      "source": [
       "import numpy as np\n",
       "import matplotlib.pyplot as plt\n",
       "import pymc3 as pm\n",
       "import arviz as az\n",
       "from src.utils import generate_synthetic_data\n",
       "\n",
       "%matplotlib inline"
      ]
     },
     {
      "cell_type": "markdown",
      "metadata": {},
      "source": [
       "## 1. Generate Synthetic Data"
      ]
     },
     {
      "cell_type": "code",
      "execution_count": null,
      "metadata": {},
      "outputs": [],
      "source": [
       "true_mean = 3\n",
       "true_std = 1\n",
       "n_samples = 1000\n",
       "\n",
       "data = generate_synthetic_data(n_samples, true_mean, true_std)"
      ]
     },
     {
      "cell_type": "markdown",
      "metadata": {},
      "source": [
       "## 2. Define and Run PyMC3 Model"
      ]
     },
     {
      "cell_type": "code",
      "execution_count": null,
      "metadata": {},
      "outputs": [],
      "source": [
       "with pm.Model() as model:\n",
       "    # Priors\n",
       "    mu = pm.Normal('mu', mu=0, sigma=10)\n",
       "    sigma = pm.HalfNormal('sigma', sigma=10)\n",
       "    \n",
       "    # Likelihood\n",
       "    y = pm.Normal('y', mu=mu, sigma=sigma, observed=data)\n",
       "    \n",
       "    # Inference\n",
       "    trace = pm.sample(2000, tune=1000, return_inferencedata=True)"
      ]
     },
     {
      "cell_type": "markdown",
      "metadata": {},
      "source": [
       "## 3. Analyze Results"
      ]
     },
     {
      "cell_type": "code",
      "execution_count": null,
      "metadata": {},
      "outputs": [],
      "source": [
       "az.plot_trace(trace)\n",
       "plt.show()\n",
       "\n",
       "az.plot_posterior(trace)\n",
       "plt.show()\n",
       "\n",
       "summary = az.summary(trace)\n",
       "print(summary)"
      ]
     },
     {
      "cell_type": "markdown",
      "metadata": {},
      "source": [
       "## 4. Compare with True Values"
      ]
     },
     {
      "cell_type": "code",
      "execution_count": null,
      "metadata": {},
      "outputs": [],
      "source": [
       "print(f\"True mean: {true_mean}\")\n",
       "print(f\"Estimated mean: {summary.loc['mu', 'mean']:.3f}\")\n",
       "print(f\"True std: {true_std}\")\n",
       "print(f\"Estimated std: {summary.loc['sigma', 'mean']:.3f}\")"
      ]
     }
    ],
    "metadata": {
     "kernelspec": {
      "display_name": "Python 3",
      "language": "python",
      "name": "python3"
     },
     "language_info": {
      "codemirror_mode": {
       "name": "ipython",
       "version": 3
      },
      "file_extension": ".py",
      "mimetype": "text/x-python",
      "name": "python",
      "nbconvert_exporter": "python",
      "pygments_lexer": "ipython3",
      "version": "3.8.5"
     }
    },
    "nbformat": 4,
    "nbformat_minor": 4
   }