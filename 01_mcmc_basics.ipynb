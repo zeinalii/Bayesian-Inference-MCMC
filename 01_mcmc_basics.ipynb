{
 "cells": [
  {
   "cell_type": "markdown",
   "metadata": {},
   "source": [
    "# MCMC Basics\n",
    "\n",
    "This notebook introduces the fundamental concepts of Markov Chain Monte Carlo (MCMC) methods."
   ]
  },
  {
   "cell_type": "code",
   "execution_count": null,
   "metadata": {},
   "outputs": [],
   "source": [
    "import numpy as np\n",
    "import matplotlib.pyplot as plt\n",
    "from src.utils import generate_synthetic_data\n",
    "\n",
    "%matplotlib inline"
   ]
  },
  {
   "cell_type": "markdown",
   "metadata": {},
   "source": [
    "## 1. Introduction to Monte Carlo Methods\n",
    "\n",
    "Monte Carlo methods are a class of computational algorithms that rely on repeated random sampling to obtain numerical results. The main idea is to use randomness to solve problems that might be deterministic in principle."
   ]
  },
  {
   "cell_type": "code",
   "execution_count": null,
   "metadata": {},
   "outputs": [],
   "source": [
    "# Example: Estimating π using Monte Carlo\n",
    "def estimate_pi(n_points):\n",
    "    points_inside_circle = 0\n",
    "    for _ in range(n_points):\n",
    "        x, y = np.random.uniform(-1, 1, 2)\n",
    "        if x**2 + y**2 <= 1:\n",
    "            points_inside_circle += 1\n",
    "    return 4 * points_inside_circle / n_points\n",
    "\n",
    "print(f\"Estimated π: {estimate_pi(1000000)}\")\n",
    "print(f\"Actual π: {np.pi}\")"
   ]
  },
  {
   "cell_type": "markdown",
   "metadata": {},
   "source": [
    "## 2. Markov Chains\n",
    "\n",
    "A Markov chain is a sequence of random variables where the probability of each event depends only on the state attained in the previous event."
   ]
  },
  {
   "cell_type": "code",
   "execution_count": null,
   "metadata": {},
   "outputs": [],
   "source": [
    "# Simple Markov Chain example\n",
    "transition_matrix = np.array([[0.7, 0.3],\n",
    "                              [0.4, 0.6]])\n",
    "\n",
    "def simulate_markov_chain(initial_state, n_steps):\n",
    "    states = [initial_state]\n",
    "    for _ in range(n_steps - 1):\n",
    "        current_state = states[-1]\n",
    "        next_state = np.random.choice([0, 1], p=transition_matrix[current_state])\n",
    "        states.append(next_state)\n",
    "    return states\n",
    "\n",
    "chain = simulate_markov_chain(0, 100)\n",
    "plt.plot(chain)\n",
    "plt.title(\"Markov Chain Simulation\")\n",
    "plt.xlabel(\"Step\")\n",
    "plt.ylabel(\"State\")\n",
    "plt.show()"
   ]
  },
  {
   "cell_type": "code",
   "execution_count": null,
   "metadata": {},
   "outputs": [],
   "source": [
    "# We'll implement a simple MCMC algorithm in the next notebook"
   ]
  }
 ],
 "metadata": {
  "kernelspec": {
   "display_name": "Python 3",
   "language": "python",
   "name": "python3"
  },
  "language_info": {
   "codemirror_mode": {
    "name": "ipython",
    "version": 3
   },
   "file_extension": ".py",
   "mimetype": "text/x-python",
   "name": "python",
   "nbconvert_exporter": "python",
   "pygments_lexer": "ipython3",
   "version": "3.8.15"
  }
 },
 "nbformat": 4,
 "nbformat_minor": 4
}
