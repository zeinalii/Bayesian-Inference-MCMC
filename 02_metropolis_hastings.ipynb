{
    "cells": [
     {
      "cell_type": "markdown",
      "metadata": {},
      "source": [
       "# Metropolis-Hastings Algorithm\n",
       "\n",
       "This notebook demonstrates the implementation and use of the Metropolis-Hastings algorithm for Bayesian inference."
      ]
     },
     {
      "cell_type": "code",
      "execution_count": null,
      "metadata": {},
      "outputs": [],
      "source": [
       "import numpy as np\n",
       "import matplotlib.pyplot as plt\n",
       "from src.mcmc import metropolis_hastings\n",
       "from src.utils import generate_synthetic_data, plot_mcmc_results\n",
       "\n",
       "%matplotlib inline"
      ]
     },
     {
      "cell_type": "markdown",
      "metadata": {},
      "source": [
       "## 1. Generate Synthetic Data"
      ]
     },
     {
      "cell_type": "code",
      "execution_count": null,
      "metadata": {},
      "outputs": [],
      "source": [
       "true_mean = 3\n",
       "true_std = 1\n",
       "n_samples = 1000\n",
       "\n",
       "data = generate_synthetic_data(n_samples, true_mean, true_std)\n",
       "\n",
       "plt.hist(data, bins=30, density=True)\n",
       "plt.title(\"Synthetic Data Distribution\")\n",
       "plt.xlabel(\"Value\")\n",
       "plt.ylabel(\"Density\")\n",
       "plt.show()"
      ]
     },
     {
      "cell_type": "markdown",
      "metadata": {},
      "source": [
       "## 2. Run Metropolis-Hastings Algorithm"
      ]
     },
     {
      "cell_type": "code",
      "execution_count": null,
      "metadata": {},
      "outputs": [],
      "source": [
       "n_iterations = 10000\n",
       "burn_in = 1000\n",
       "initial_theta = 0\n",
       "\n",
       "samples, acceptance_rate = metropolis_hastings(data, initial_theta, n_iterations, burn_in=burn_in)\n",
       "\n",
       "print(f\"Acceptance rate: {acceptance_rate:.2f}\")"
      ]
     },
     {
      "cell_type": "markdown",
      "metadata": {},
      "source": [
       "## 3. Analyze MCMC Results"
      ]
     },
     {
      "cell_type": "code",
      "execution_count": null,
      "metadata": {},
      "outputs": [],
      "source": [
       "fig = plot_mcmc_results(samples, burn_in)\n",
       "plt.show()\n",
       "\n",
       "print(f\"Estimated mean: {np.mean(samples):.3f}\")\n",
       "print(f\"Estimated standard deviation: {np.std(samples):.3f}\")\n",
       "print(f\"95% Credible Interval: ({np.percentile(samples, 2.5):.3f}, {np.percentile(samples, 97.5):.3f})\")"
      ]
     }
    ],
    "metadata": {
     "kernelspec": {
      "display_name": "Python 3",
      "language": "python",
      "name": "python3"
     },
     "language_info": {
      "codemirror_mode": {
       "name": "ipython",
       "version": 3
      },
      "file_extension": ".py",
      "mimetype": "text/x-python",
      "name": "python",
      "nbconvert_exporter": "python",
      "pygments_lexer": "ipython3",
      "version": "3.8.5"
     }
    },
    "nbformat": 4,
    "nbformat_minor": 4
   }